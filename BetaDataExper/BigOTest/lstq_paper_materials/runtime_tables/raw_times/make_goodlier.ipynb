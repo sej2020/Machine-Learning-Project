{
 "cells": [
  {
   "cell_type": "code",
   "execution_count": 15,
   "metadata": {},
   "outputs": [],
   "source": [
    "import pandas as pd\n",
    "import numpy as np\n",
    "from pathlib import Path\n",
    "from math import ceil"
   ]
  },
  {
   "cell_type": "code",
   "execution_count": 16,
   "metadata": {},
   "outputs": [],
   "source": [
    "label_dict ={\n",
    "    \"tf-necd\": \"TensorFlow (NE-CD)\",\n",
    "    \"tf-cod\": \"TensorFlow (COD)\",\n",
    "    \"pytorch-qrcp\": \"PyTorch (QRCP)\",\n",
    "    \"pytorch-qr\": \"PyTorch (QR)\",\n",
    "    \"pytorch-svd\": \"PyTorch (SVD)\",\n",
    "    \"pytorch-svddc\": \"PyTorch (SVDDC)\",\n",
    "    \"sklearn-svddc\": \"scikit-learn (SVDDC)\",\n",
    "}\n",
    "\n",
    "ordering = list(label_dict.keys())"
   ]
  },
  {
   "cell_type": "code",
   "execution_count": 17,
   "metadata": {},
   "outputs": [],
   "source": [
    "run = \"quartz_run3\"\n",
    "input_path = Path(f\"../../../postprocessing/{run}/processed_output/\")\n",
    "actual = pd.read_csv(input_path / \"actual_runtime.csv\", header=0, index_col=0)\n",
    "\n",
    "actual = actual / 1_000_000 # oneth of a seconds\n",
    "actual = actual.round(3)\n",
    "actual = actual[ordering]\n",
    "actual.columns = [label_dict[col] for col in actual.columns]\n",
    "output_path = Path(f\"{run}_ratio.csv\")\n",
    "actual[\"Rows\"] = [f\"$10^{{{x if ceil(x) == x+.5 else int(x)}}}$\" for x in np.round(np.log10(actual.index), 1)]\n",
    "actual.set_index(\"Rows\", inplace=True)\n",
    "actual.to_csv(output_path, header=True, index=True)"
   ]
  }
 ],
 "metadata": {
  "kernelspec": {
   "display_name": "research",
   "language": "python",
   "name": "python3"
  },
  "language_info": {
   "codemirror_mode": {
    "name": "ipython",
    "version": 3
   },
   "file_extension": ".py",
   "mimetype": "text/x-python",
   "name": "python",
   "nbconvert_exporter": "python",
   "pygments_lexer": "ipython3",
   "version": "3.10.6"
  },
  "orig_nbformat": 4
 },
 "nbformat": 4,
 "nbformat_minor": 2
}
