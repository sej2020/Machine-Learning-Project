{
 "cells": [
  {
   "cell_type": "code",
   "execution_count": 2,
   "metadata": {},
   "outputs": [],
   "source": [
    "import pandas as pd\n",
    "import numpy as np\n",
    "from pathlib import Path\n",
    "from math import ceil"
   ]
  },
  {
   "cell_type": "code",
   "execution_count": 3,
   "metadata": {},
   "outputs": [],
   "source": [
    "label_dict ={\n",
    "    \"tf-necd\": \"TensorFlow (NE-CD)\",\n",
    "    \"tf-cod\": \"TensorFlow (COD)\",\n",
    "    \"pytorch-qrcp\": \"PyTorch (QRCP)\",\n",
    "    \"pytorch-qr\": \"PyTorch (QR)\",\n",
    "    \"pytorch-svd\": \"PyTorch (SVD)\",\n",
    "    \"pytorch-svddc\": \"PyTorch (SVDDC)\",\n",
    "    \"sklearn-svddc\": \"scikit-learn (SVDDC)\",\n",
    "    \"mxnet-svddc\": \"MXNet (SVDDC)\"\n",
    "}"
   ]
  },
  {
   "cell_type": "code",
   "execution_count": 5,
   "metadata": {},
   "outputs": [],
   "source": [
    "run = \"macbook_run1\"\n",
    "input_path = Path(f\"../../postprocessing/{run}/processed_output/\")\n",
    "bytes = pd.read_csv(input_path / \"bytes.csv\", header=0, index_col=0)\n",
    "bytes = (bytes / 1_000_000).round(3)\n",
    "\n",
    "bytes.columns = [label_dict[col] for col in bytes.columns]\n",
    "output_path = Path(f\"{run}_bytes.csv\")\n",
    "bytes[\"Rows\"] = [f\"$10^{{{x if ceil(x) == x+.5 else int(x)}}}$\" for x in np.round(np.log10(bytes.index), 1)]\n",
    "bytes.set_index(\"Rows\", inplace=True)\n",
    "bytes.to_csv(output_path, header=True, index=True)"
   ]
  }
 ],
 "metadata": {
  "kernelspec": {
   "display_name": "research",
   "language": "python",
   "name": "python3"
  },
  "language_info": {
   "codemirror_mode": {
    "name": "ipython",
    "version": 3
   },
   "file_extension": ".py",
   "mimetype": "text/x-python",
   "name": "python",
   "nbconvert_exporter": "python",
   "pygments_lexer": "ipython3",
   "version": "3.10.6"
  },
  "orig_nbformat": 4
 },
 "nbformat": 4,
 "nbformat_minor": 2
}
