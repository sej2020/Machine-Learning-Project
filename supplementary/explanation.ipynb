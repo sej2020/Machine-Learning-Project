{
 "cells": [
  {
   "cell_type": "code",
   "execution_count": null,
   "metadata": {},
   "outputs": [],
   "source": []
  },
  {
   "attachments": {},
   "cell_type": "markdown",
   "metadata": {},
   "source": [
    "Several visualizations for model comparison are produced automatically when a request is processed. The first of these is a boxplot, displaying model performance on every cross-validation fold during CV training. Each box represents a regressor, and a boxplot is created for each of the 13 metrics that our web service supports for evaluation of model performance. This same cross-validation information can also be displayed as a bar graph, with the training performance of the regressor displayed on the y-axis, and the fold number displayed on the x-axis"
   ]
  }
 ],
 "metadata": {
  "language_info": {
   "name": "python"
  },
  "orig_nbformat": 4
 },
 "nbformat": 4,
 "nbformat_minor": 2
}
