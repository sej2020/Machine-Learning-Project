{
 "cells": [
  {
   "cell_type": "markdown",
   "metadata": {},
   "source": [
    "# Simultaneous Regression Run\n",
    "\n",
    "Imports"
   ]
  },
  {
   "cell_type": "code",
   "execution_count": null,
   "metadata": {},
   "outputs": [],
   "source": [
    "import pandas as pd\n",
    "import os\n",
    "import matplotlib.pyplot as plt\n",
    "import numpy as np\n",
    "from sklearn.model_selection import StratifiedShuffleSplit\n",
    "from sklearn.preprocessing import StandardScaler\n",
    "from sklearn.linear_model import LinearRegression\n",
    "from sklearn.metrics import mean_squared_error\n",
    "from sklearn.metrics import r2_score\n",
    "from sklearn.metrics import mean_absolute_error\n",
    "from sklearn.tree import DecisionTreeRegressor\n",
    "from sklearn.model_selection import RandomizedSearchCV\n",
    "from scipy.stats import uniform as sp_randFloat\n",
    "from scipy.stats import randint as sp_randInt\n",
    "from sklearn.linear_model import SGDRegressor\n",
    "from sklearn import neighbors\n",
    "from sklearn.ensemble import RandomForestRegressor\n",
    "from sklearn.gaussian_process import GaussianProcessRegressor"
   ]
  },
  {
   "cell_type": "markdown",
   "metadata": {},
   "source": [
    "Load and Describe Data"
   ]
  },
  {
   "cell_type": "code",
   "execution_count": null,
   "metadata": {},
   "outputs": [],
   "source": [
    "def load_pp_data():\n",
    "    csv_path = r\"C:\\Users\\18123\\OneDrive\\Documents\\IU Bloomington\\Machine-Learning-Project\\PowerPlantData\\CCPP\\Folds5x2_pp.csv\"\n",
    "    return pd.read_csv(csv_path)\n",
    "\n",
    "pp = load_pp_data()\n",
    "print(pp.describe())"
   ]
  },
  {
   "cell_type": "markdown",
   "metadata": {},
   "source": [
    "Split Train/Test Data"
   ]
  },
  {
   "cell_type": "code",
   "execution_count": null,
   "metadata": {},
   "outputs": [],
   "source": [
    "pp[\"AT_cat\"] = pd.cut(pp[\"AT\"],bins=[0.,10.,20.,30.,np.inf],labels=[1,2,3,4])\n",
    "\n",
    "split = StratifiedShuffleSplit(n_splits=1,test_size=0.2,random_state=42)\n",
    "for train_index, test_index in split.split(pp,pp[\"AT_cat\"]):\n",
    "    train_set = pp.loc[train_index]\n",
    "    test_set = pp.loc[test_index]\n",
    "\n",
    "for set_ in(train_set,test_set):\n",
    "    set_.drop(\"AT_cat\",axis=1,inplace=True)\n",
    "\n",
    "pptrain = train_set.copy()\n",
    "pptest = test_set.copy()\n",
    "\n",
    "pptrain_attrib = pptrain.drop(\"PE\",axis=1)\n",
    "pptrain_labels = pptrain[\"PE\"].copy()\n",
    "pptest_attrib = pptest.drop(\"PE\",axis=1)\n",
    "pptest_labels = pptest[\"PE\"].copy()\n",
    "\n",
    "scaler = StandardScaler()\n",
    "scaler.fit_transform(pptrain_attrib)"
   ]
  },
  {
   "cell_type": "markdown",
   "metadata": {},
   "source": [
    "Dictionary of Regression Hyperparamter Ranges"
   ]
  },
  {
   "cell_type": "code",
   "execution_count": null,
   "metadata": {},
   "outputs": [],
   "source": [
    "regression_param_dict = {\n",
    "DecisionTreeRegressor: [{'ccp_alpha': sp_randFloat(0,1), 'criterion': ['squared_error','friedman_mse','absolute_error','poisson'], 'max_depth': sp_randInt(1,100), 'max_features': [None,'sqrt','log2'], 'max_leaf_nodes': sp_randInt(2,100), 'min_impurity_decrease': sp_randFloat(0,1), 'min_samples_leaf': sp_randInt(1,100), 'min_samples_split': sp_randInt(2,100), 'min_weight_fraction_leaf': sp_randFloat(0,0.5), 'random_state': [10], 'splitter': ['best','random']}],\n",
    "LinearRegression: [{'copy_X': [True], 'fit_intercept': [True, False], 'n_jobs': [None], 'normalize': ['deprecated'], 'positive': [True,False]}],\n",
    "GaussianProcessRegressor: [{'alpha': sp_randFloat(1e-11,1e-9), 'copy_X_train': [True], 'kernel': [None], 'n_restarts_optimizer': sp_randInt(0,10), 'normalize_y': [True,False], 'optimizer': ['fmin_l_bfgs_b'], 'random_state': [10]}],\n",
    "neighbors.KNeighborsRegressor: [{'algorithm': ['auto', 'ball_tree', 'kd_tree', 'brute'], 'leaf_size': sp_randInt(1,100), 'metric': ['minkowski'], 'metric_params': [None], 'n_jobs': [None], 'n_neighbors': sp_randInt(1,50), 'p': sp_randInt(1,2), 'weights': ['uniform','distance']}],\n",
    "RandomForestRegressor: [{'bootstrap': [True,False], 'ccp_alpha': sp_randFloat(0,1), 'criterion': ['squared_error', 'absolute_error', 'poisson'], 'max_depth': sp_randInt(1,100), 'max_features': [None,'sqrt','log2'], 'max_leaf_nodes': sp_randInt(2,100), 'max_samples': [None], 'min_impurity_decrease': sp_randFloat(0,1), 'min_samples_leaf': sp_randInt(1,100), 'min_samples_split': sp_randInt(2,100), 'min_weight_fraction_leaf': sp_randFloat(0,0.5), 'n_estimators': sp_randInt(1,50), 'n_jobs': [None], 'oob_score': [False], 'random_state': [10], 'verbose': [0], 'warm_start': [False]}]\n",
    "}"
   ]
  },
  {
   "cell_type": "markdown",
   "metadata": {},
   "source": [
    "Function that Runs Regressions Simultaneously"
   ]
  },
  {
   "cell_type": "code",
   "execution_count": null,
   "metadata": {},
   "outputs": [],
   "source": [
    "def run(model):\n",
    "    reg = model()\n",
    "    param_grid = regression_param_dict[model]\n",
    "    reg_hyper_search = RandomizedSearchCV(reg,param_grid,scoring=\"neg_mean_squared_error\",cv=10,n_iter=2,refit=True,random_state=12)\n",
    "    final_reg = reg_hyper_search.fit(pptrain_attrib,pptrain_labels)\n",
    "\n",
    "    final_reg_train_predictions = final_reg.predict(pptrain_attrib)\n",
    "    final_reg_train_mse = mean_squared_error(pptrain_labels,final_reg_train_predictions)\n",
    "    final_reg_train_rmse = np.sqrt(final_reg_train_mse)\n",
    "    final_reg_train_r2 = r2_score(pptrain_labels,final_reg_train_predictions)\n",
    "    final_reg_train_mae = mean_absolute_error(pptrain_labels,final_reg_train_predictions)\n",
    "\n",
    "    final_reg_test_predictions = final_reg.predict(pptest_attrib)\n",
    "\n",
    "    final_reg_test_mse = mean_squared_error(pptest_labels,final_reg_test_predictions)\n",
    "    final_reg_test_rmse = np.sqrt(final_reg_test_mse)\n",
    "    final_reg_test_r2 = r2_score(pptest_labels,final_reg_test_predictions)\n",
    "    final_reg_test_mae = mean_absolute_error(pptest_labels,final_reg_test_predictions)\n",
    "\n",
    "    return [final_reg.best_params_, final_reg_train_mse, final_reg_train_rmse, final_reg_train_r2, final_reg_train_mae, final_reg_test_mse, final_reg_test_rmse, final_reg_test_r2, final_reg_test_mae]\n",
    "\n",
    "\n",
    "def vizualizeMSE(regressions,modellst,data):\n",
    "    MSEfig = plt.figure()\n",
    "    for i in range(len(regressions)):\n",
    "        if data == 'train':\n",
    "            plt.scatter(regressions[i][1],i+1,s=100)\n",
    "        if data == 'test':\n",
    "            plt.scatter(regressions[i][5],i+1,s=100)\n",
    "    plt.xticks([*range(0,31,2)])\n",
    "    plt.yticks([*range(len(modellst)+2)],labels=['',*modellst,''])\n",
    "    plt.xlabel(f'{data} Mean Squared Error (Lower is better)')\n",
    "    return MSEfig\n",
    "\n",
    "def vizualizeRMSE(regressions,modellst,data):\n",
    "    RMSEfig = plt.figure()\n",
    "    for i in range(len(regressions)):\n",
    "        if data == 'train':\n",
    "            plt.scatter(regressions[i][2],i+1,s=100)\n",
    "        if data == 'test':\n",
    "            plt.scatter(regressions[i][6],i+1,s=100)\n",
    "    xticklst = []\n",
    "    for j in range(0,75,5):\n",
    "        xticklst += [j/10]\n",
    "    plt.xticks(xticklst)\n",
    "    plt.yticks([*range(len(modellst)+2)],labels=['',*modellst,''])\n",
    "    plt.xlabel(f'{data} Root Mean Squared Error (Lower is better)')\n",
    "    return RMSEfig\n",
    "\n",
    "def vizualizeR2(regressions,modellst,data):\n",
    "    R2fig = plt.figure()\n",
    "    for i in range(len(regressions)):\n",
    "        if data == 'train':\n",
    "            plt.scatter(regressions[i][3],i+1,s=100)\n",
    "        if data == 'test':\n",
    "            plt.scatter(regressions[i][7],i+1,s=100)\n",
    "    xticklst = []\n",
    "    for j in range(70,102,2):\n",
    "        xticklst += [j/100]\n",
    "    plt.xticks(xticklst)\n",
    "    plt.yticks([*range(len(modellst)+2)],labels=['',*modellst,''])\n",
    "    plt.xlabel(f'{data} R-Squared Score (Higher is better)')\n",
    "    return R2fig\n",
    "\n",
    "def vizualizeMAE(regressions,modellst,data):\n",
    "    MAEfig = plt.figure()\n",
    "    for i in range(len(regressions)):\n",
    "        if data == 'train':\n",
    "            plt.scatter(regressions[i][4],i+1,s=100)\n",
    "        if data == 'test':\n",
    "            plt.scatter(regressions[i][8],i+1,s=100)\n",
    "    xticklst = []\n",
    "    for j in range(0,625,25):\n",
    "        xticklst += [j/100]\n",
    "    plt.xticks(xticklst)\n",
    "    plt.yticks([*range(len(modellst)+2)],labels=['',*modellst,''])\n",
    "    plt.xlabel(f'{data} Mean Absolute Error (Lower is better)')\n",
    "    return MAEfig\n",
    "\n",
    "def comparison(modellst):\n",
    "    regressions = []\n",
    "    for i in modellst:\n",
    "        regressions += [run(i)]\n",
    "    trainmse = vizualizeMSE(regressions,modellst,'train')\n",
    "    trainrmse = vizualizeRMSE(regressions,modellst,'train')\n",
    "    trainr2 = vizualizeR2(regressions,modellst,'train')\n",
    "    trainmae = vizualizeMAE(regressions,modellst,'train')\n",
    "    testmse = vizualizeMSE(regressions,modellst,'test')\n",
    "    testrmse = vizualizeRMSE(regressions,modellst,'test')\n",
    "    testr2 = vizualizeR2(regressions,modellst,'test')\n",
    "    testmae = vizualizeMAE(regressions,modellst,'test')\n",
    "    return trainmse, trainrmse, trainr2, trainmae, testmse, testrmse, testr2, testmae\n",
    "\n",
    "x = [DecisionTreeRegressor,LinearRegression,GaussianProcessRegressor,RandomForestRegressor,neighbors.KNeighborsRegressor]\n",
    "comparison(x)\n",
    "plt.show()"
   ]
  }
 ],
 "metadata": {
  "kernelspec": {
   "display_name": "Python 3.8.9 64-bit",
   "language": "python",
   "name": "python3"
  },
  "language_info": {
   "name": "python",
   "version": "3.8.9"
  },
  "orig_nbformat": 4,
  "vscode": {
   "interpreter": {
    "hash": "5e13265c55b2786eb2a2fa7b7b4618c00aafbb52a034e4f1759946ea06f2e244"
   }
  }
 },
 "nbformat": 4,
 "nbformat_minor": 2
}
