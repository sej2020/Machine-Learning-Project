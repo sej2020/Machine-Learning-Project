{
 "cells": [
  {
   "cell_type": "markdown",
   "metadata": {},
   "source": [
    "Regressions on Fertility Data Implemented Using Scikit-Learn\n",
    "\n",
    "Preprocessing data"
   ]
  },
  {
   "cell_type": "code",
   "execution_count": null,
   "metadata": {},
   "outputs": [],
   "source": [
    "with open('fertility.txt') as fertility:\n",
    "    patients = []\n",
    "    classification = []\n",
    "    for line in fertility:\n",
    "        data = line.split()\n",
    "        for i in data:\n",
    "            ndata = i.split(',')\n",
    "            patients += [ndata]\n",
    "    for p in range(len(patients)):\n",
    "        classification += patients[p][-1]\n",
    "        patients[p] = patients[p][:-1]\n",
    "    for j in patients:\n",
    "        for k in range(len(j)):\n",
    "            j[k] = float(j[k])\n",
    "    for l in range(len(classification)):\n",
    "        if classification[l] == 'N':\n",
    "            classification[l] = 0\n",
    "        else:\n",
    "            classification[l] = 1\n",
    "    final = [patients,classification]"
   ]
  },
  {
   "cell_type": "markdown",
   "metadata": {},
   "source": [
    "Linear Regression"
   ]
  },
  {
   "cell_type": "code",
   "execution_count": null,
   "metadata": {},
   "outputs": [],
   "source": [
    "from sklearn import linear_model\n",
    "reg = linear_model.LinearRegression()\n",
    "reg.fit(final[0],final[1])\n",
    "print(reg.coef_)"
   ]
  },
  {
   "cell_type": "markdown",
   "metadata": {},
   "source": [
    "Decision Tree"
   ]
  },
  {
   "cell_type": "code",
   "execution_count": null,
   "metadata": {},
   "outputs": [],
   "source": [
    "from sklearn import tree\n",
    "import graphviz\n",
    "import matplotlib.pyplot as plt\n",
    "x = final[0]\n",
    "y = final[1]\n",
    "clf = tree.DecisionTreeRegressor()\n",
    "clf = clf.fit(x,y)\n",
    "graph = tree.export_text(clf)\n",
    "print(graph)"
   ]
  }
 ],
 "metadata": {
  "kernelspec": {
   "display_name": "Python 3.8.9 64-bit",
   "language": "python",
   "name": "python3"
  },
  "language_info": {
   "codemirror_mode": {
    "name": "ipython",
    "version": 3
   },
   "file_extension": ".py",
   "mimetype": "text/x-python",
   "name": "python",
   "nbconvert_exporter": "python",
   "pygments_lexer": "ipython3",
   "version": "3.8.9"
  },
  "orig_nbformat": 4,
  "vscode": {
   "interpreter": {
    "hash": "5e13265c55b2786eb2a2fa7b7b4618c00aafbb52a034e4f1759946ea06f2e244"
   }
  }
 },
 "nbformat": 4,
 "nbformat_minor": 2
}
