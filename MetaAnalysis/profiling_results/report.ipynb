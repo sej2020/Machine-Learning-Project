{
 "cells": [
  {
   "cell_type": "code",
   "execution_count": 1,
   "metadata": {},
   "outputs": [],
   "source": [
    "import pandas as pd"
   ]
  },
  {
   "cell_type": "code",
   "execution_count": 8,
   "metadata": {},
   "outputs": [],
   "source": [
    "path = \"results.txt\"\n",
    "df = pd.read_csv(path, header=0, na_values=\"_\")\n",
    "cdf = df[df.Dataset == \"concrete\"]\n",
    "pdf = df[df.Dataset == \"powerplant\"]"
   ]
  },
  {
   "cell_type": "code",
   "execution_count": 9,
   "metadata": {},
   "outputs": [
    {
     "name": "stderr",
     "output_type": "stream",
     "text": [
      "/tmp/ipykernel_50150/3432739385.py:1: FutureWarning: Dropping of nuisance columns in DataFrame reductions (with 'numeric_only=None') is deprecated; in a future version this will raise TypeError.  Select only valid columns before calling the reduction.\n",
      "  cdf.mean(axis=0)\n"
     ]
    },
    {
     "data": {
      "text/plain": [
       " Cores                  3.750\n",
       " Max_Mem_Util (MB)    188.110\n",
       " Runtime (s)           18.831\n",
       "dtype: float64"
      ]
     },
     "execution_count": 9,
     "metadata": {},
     "output_type": "execute_result"
    }
   ],
   "source": []
  }
 ],
 "metadata": {
  "kernelspec": {
   "display_name": "research",
   "language": "python",
   "name": "python3"
  },
  "language_info": {
   "codemirror_mode": {
    "name": "ipython",
    "version": 3
   },
   "file_extension": ".py",
   "mimetype": "text/x-python",
   "name": "python",
   "nbconvert_exporter": "python",
   "pygments_lexer": "ipython3",
   "version": "3.10.6"
  },
  "orig_nbformat": 4,
  "vscode": {
   "interpreter": {
    "hash": "7078c22b6cc44eb23328fb4aecc22af94af04892ab7076c78ca0a56daca2b1a1"
   }
  }
 },
 "nbformat": 4,
 "nbformat_minor": 2
}
