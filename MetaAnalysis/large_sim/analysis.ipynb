{
 "cells": [
  {
   "cell_type": "code",
   "execution_count": 25,
   "metadata": {},
   "outputs": [],
   "source": [
    "# import pyaml\n",
    "import yaml\n",
    "import numpy as np\n",
    "import pandas as pd\n",
    "import seaborn as sns\n",
    "import matplotlib.pyplot as plt\n",
    "\n",
    "%matplotlib qt"
   ]
  },
  {
   "cell_type": "code",
   "execution_count": 31,
   "metadata": {},
   "outputs": [],
   "source": [
    "datapath = \"data2.yaml\"\n",
    "with open(datapath, \"r\") as f:  \n",
    "    data = yaml.safe_load(f)"
   ]
  },
  {
   "cell_type": "code",
   "execution_count": 38,
   "metadata": {},
   "outputs": [
    {
     "data": {
      "text/plain": [
       "[[143.6909562050132, 150.74796996905934],\n",
       " [143.11102856998332, 145.4629290200537],\n",
       " [143.37379246600904, 145.76218411896843],\n",
       " [134.54912896989845, 136.8857457219856],\n",
       " [144.19296578096692, 146.57972300599795],\n",
       " [153.83176017005462, 156.2145028830273]]"
      ]
     },
     "execution_count": 38,
     "metadata": {},
     "output_type": "execute_result"
    }
   ],
   "source": [
    "data[1]"
   ]
  },
  {
   "cell_type": "code",
   "execution_count": 43,
   "metadata": {},
   "outputs": [],
   "source": [
    "df_prep = []\n",
    "for n_workers, subset in data.items():\n",
    "    for iter in subset:\n",
    "        df_prep.append((n_workers, iter[0], iter[1]))\n",
    "        \n",
    "df_prep = [(n_workers, iter[0], iter[1]) for n_workers, subset in data.items() for iter in subset]"
   ]
  },
  {
   "cell_type": "code",
   "execution_count": 48,
   "metadata": {},
   "outputs": [],
   "source": [
    "df = pd.DataFrame(df_prep)\n",
    "df.columns = [\"n_workers\", \"regr_time\", \"total_time\"]\n",
    "mean_times = df.groupby(\"n_workers\").mean()\n",
    "median_times = df.groupby(\"n_workers\").median()\n",
    "stdevs = df.groupby(\"n_workers\").std()"
   ]
  },
  {
   "cell_type": "code",
   "execution_count": 54,
   "metadata": {},
   "outputs": [
    {
     "data": {
      "text/plain": [
       "Text(0.5, 0.98, 'Median Total Runtimes @ 6 iterations / worker')"
      ]
     },
     "execution_count": 54,
     "metadata": {},
     "output_type": "execute_result"
    }
   ],
   "source": [
    "fig, ax0 = plt.subplots()\n",
    "# sns.pointplot(x=mean_times.index, y=mean_times[\"total_time\"], color=\"green\", ax=ax0)\n",
    "sns.pointplot(x=median_times.index, y=median_times[\"total_time\"], color=\"blue\", ax=ax0)\n",
    "fig.suptitle(\"Median Total Runtimes @ 6 iterations / worker\")\n"
   ]
  },
  {
   "cell_type": "code",
   "execution_count": 32,
   "metadata": {},
   "outputs": [
    {
     "ename": "ValueError",
     "evalue": "too many values to unpack (expected 2)",
     "output_type": "error",
     "traceback": [
      "\u001b[0;31m---------------------------------------------------------------------------\u001b[0m",
      "\u001b[0;31mValueError\u001b[0m                                Traceback (most recent call last)",
      "\u001b[1;32m/Users/joshuaelms/Desktop/github_repos/Machine-Learning-Project/MetaAnalysis/large_sim/analysis.ipynb Cell 3\u001b[0m in \u001b[0;36m<cell line: 1>\u001b[0;34m()\u001b[0m\n\u001b[0;32m----> <a href='vscode-notebook-cell:/Users/joshuaelms/Desktop/github_repos/Machine-Learning-Project/MetaAnalysis/large_sim/analysis.ipynb#W2sZmlsZQ%3D%3D?line=0'>1</a>\u001b[0m df_prep \u001b[39m=\u001b[39m [[w\u001b[39m*\u001b[39m\u001b[39m2\u001b[39m, i, j] \u001b[39mfor\u001b[39;00m w, (i, j) \u001b[39min\u001b[39;00m \u001b[39menumerate\u001b[39m(data\u001b[39m.\u001b[39mvalues())]\n\u001b[1;32m      <a href='vscode-notebook-cell:/Users/joshuaelms/Desktop/github_repos/Machine-Learning-Project/MetaAnalysis/large_sim/analysis.ipynb#W2sZmlsZQ%3D%3D?line=1'>2</a>\u001b[0m df \u001b[39m=\u001b[39m pd\u001b[39m.\u001b[39mDataFrame(df_prep)\n\u001b[1;32m      <a href='vscode-notebook-cell:/Users/joshuaelms/Desktop/github_repos/Machine-Learning-Project/MetaAnalysis/large_sim/analysis.ipynb#W2sZmlsZQ%3D%3D?line=2'>3</a>\u001b[0m df\u001b[39m.\u001b[39mcolumns \u001b[39m=\u001b[39m [\u001b[39m\"\u001b[39m\u001b[39mn_workers\u001b[39m\u001b[39m\"\u001b[39m, \u001b[39m\"\u001b[39m\u001b[39mregression_time\u001b[39m\u001b[39m\"\u001b[39m, \u001b[39m\"\u001b[39m\u001b[39mtotal_time\u001b[39m\u001b[39m\"\u001b[39m]\n",
      "\u001b[1;32m/Users/joshuaelms/Desktop/github_repos/Machine-Learning-Project/MetaAnalysis/large_sim/analysis.ipynb Cell 3\u001b[0m in \u001b[0;36m<listcomp>\u001b[0;34m(.0)\u001b[0m\n\u001b[0;32m----> <a href='vscode-notebook-cell:/Users/joshuaelms/Desktop/github_repos/Machine-Learning-Project/MetaAnalysis/large_sim/analysis.ipynb#W2sZmlsZQ%3D%3D?line=0'>1</a>\u001b[0m df_prep \u001b[39m=\u001b[39m [[w\u001b[39m*\u001b[39m\u001b[39m2\u001b[39m, i, j] \u001b[39mfor\u001b[39;00m w, (i, j) \u001b[39min\u001b[39;00m \u001b[39menumerate\u001b[39m(data\u001b[39m.\u001b[39mvalues())]\n\u001b[1;32m      <a href='vscode-notebook-cell:/Users/joshuaelms/Desktop/github_repos/Machine-Learning-Project/MetaAnalysis/large_sim/analysis.ipynb#W2sZmlsZQ%3D%3D?line=1'>2</a>\u001b[0m df \u001b[39m=\u001b[39m pd\u001b[39m.\u001b[39mDataFrame(df_prep)\n\u001b[1;32m      <a href='vscode-notebook-cell:/Users/joshuaelms/Desktop/github_repos/Machine-Learning-Project/MetaAnalysis/large_sim/analysis.ipynb#W2sZmlsZQ%3D%3D?line=2'>3</a>\u001b[0m df\u001b[39m.\u001b[39mcolumns \u001b[39m=\u001b[39m [\u001b[39m\"\u001b[39m\u001b[39mn_workers\u001b[39m\u001b[39m\"\u001b[39m, \u001b[39m\"\u001b[39m\u001b[39mregression_time\u001b[39m\u001b[39m\"\u001b[39m, \u001b[39m\"\u001b[39m\u001b[39mtotal_time\u001b[39m\u001b[39m\"\u001b[39m]\n",
      "\u001b[0;31mValueError\u001b[0m: too many values to unpack (expected 2)"
     ]
    }
   ],
   "source": [
    "df_prep = [[w*2, i, j] for w, (i, j) in enumerate(data.values())]\n",
    "df = pd.DataFrame(df_prep)\n",
    "df.columns = [\"n_workers\", \"regression_time\", \"total_time\"]\n",
    "df.index = df[\"n_workers\"]\n",
    "df.drop(columns=\"n_workers\")"
   ]
  },
  {
   "cell_type": "code",
   "execution_count": 26,
   "metadata": {},
   "outputs": [
    {
     "name": "stderr",
     "output_type": "stream",
     "text": [
      "/Users/joshuaelms/.virtualenvs/rising_sun/lib/python3.10/site-packages/seaborn/_decorators.py:36: FutureWarning: Pass the following variables as keyword args: x, y. From version 0.12, the only valid positional argument will be `data`, and passing other arguments without an explicit keyword will result in an error or misinterpretation.\n",
      "  warnings.warn(\n"
     ]
    }
   ],
   "source": [
    "sns.lineplot(df.index, df.regression_time)\n",
    "plt.show()"
   ]
  },
  {
   "cell_type": "code",
   "execution_count": 30,
   "metadata": {},
   "outputs": [
    {
     "data": {
      "text/plain": [
       "array([ 1,  1,  1,  1,  1,  1,  2,  2,  2,  2,  2,  2,  3,  3,  3,  3,  3,\n",
       "        3,  4,  4,  4,  4,  4,  4,  5,  5,  5,  5,  5,  5,  6,  6,  6,  6,\n",
       "        6,  6,  7,  7,  7,  7,  7,  7,  8,  8,  8,  8,  8,  8,  9,  9,  9,\n",
       "        9,  9,  9, 10, 10, 10, 10, 10, 10, 11, 11, 11, 11, 11, 11, 12, 12,\n",
       "       12, 12, 12, 12, 13, 13, 13, 13, 13, 13, 14, 14, 14, 14, 14, 14, 15,\n",
       "       15, 15, 15, 15, 15, 16, 16, 16, 16, 16, 16, 17, 17, 17, 17, 17, 17,\n",
       "       18, 18, 18, 18, 18, 18, 19, 19, 19, 19, 19, 19, 20, 20, 20, 20, 20,\n",
       "       20, 21, 21, 21, 21, 21, 21, 22, 22, 22, 22, 22, 22, 23, 23, 23, 23,\n",
       "       23, 23, 24, 24, 24, 24, 24, 24, 25, 25, 25, 25, 25, 25, 26, 26, 26,\n",
       "       26, 26, 26, 27, 27, 27, 27, 27, 27, 28, 28, 28, 28, 28, 28, 29, 29,\n",
       "       29, 29, 29, 29, 30, 30, 30, 30, 30, 30, 31, 31, 31, 31, 31, 31, 32,\n",
       "       32, 32, 32, 32, 32, 33, 33, 33, 33, 33, 33, 34, 34, 34, 34, 34, 34,\n",
       "       35, 35, 35, 35, 35, 35, 36, 36, 36, 36, 36, 36, 37, 37, 37, 37, 37,\n",
       "       37, 38, 38, 38, 38, 38, 38, 39, 39, 39, 39, 39, 39, 40, 40, 40, 40,\n",
       "       40, 40])"
      ]
     },
     "execution_count": 30,
     "metadata": {},
     "output_type": "execute_result"
    }
   ],
   "source": [
    "np.repeat(np.arange(1, 41), 6)"
   ]
  }
 ],
 "metadata": {
  "kernelspec": {
   "display_name": "rising_sun",
   "language": "python",
   "name": "python3"
  },
  "language_info": {
   "codemirror_mode": {
    "name": "ipython",
    "version": 3
   },
   "file_extension": ".py",
   "mimetype": "text/x-python",
   "name": "python",
   "nbconvert_exporter": "python",
   "pygments_lexer": "ipython3",
   "version": "3.10.8"
  },
  "orig_nbformat": 4,
  "vscode": {
   "interpreter": {
    "hash": "bebecaaf41780d017764b59d9fbf95c0501ae565161cbfe7bdcfa8b1930c3dd6"
   }
  }
 },
 "nbformat": 4,
 "nbformat_minor": 2
}
