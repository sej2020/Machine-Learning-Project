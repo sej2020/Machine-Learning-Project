{
 "cells": [
  {
   "cell_type": "code",
   "execution_count": 15,
   "metadata": {},
   "outputs": [],
   "source": [
    "from pathlib import Path\n",
    "import numpy as np\n",
    "import pandas as pd\n",
    "import matplotlib.pyplot as plt\n",
    "import seaborn as sns\n",
    "\n",
    "rng = np.random.default_rng(100)"
   ]
  },
  {
   "cell_type": "code",
   "execution_count": 41,
   "metadata": {},
   "outputs": [
    {
     "data": {
      "text/plain": [
       "{'D-Squared Absolute Error Score',\n",
       " 'D-Squared Pinball Score',\n",
       " 'D-Squared Tweedie Score',\n",
       " 'Explained Variance',\n",
       " 'Max Error',\n",
       " 'Mean Absolute Error',\n",
       " 'Mean Absolute Percentage Error',\n",
       " 'Mean Gamma Deviance',\n",
       " 'Mean Poisson Deviance',\n",
       " 'Mean Squared Error',\n",
       " 'Mean Squared Log Error',\n",
       " 'Median Absolute Error',\n",
       " 'R-Squared',\n",
       " 'Root Mean Squared Error'}"
      ]
     },
     "execution_count": 41,
     "metadata": {},
     "output_type": "execute_result"
    }
   ],
   "source": [
    "sample_file_path = Path(\"../../output.csv\")\n",
    "df = pd.read_csv(sample_file_path, header=0)\n",
    "cols = df.columns.tolist()\n",
    "cols[0] = \"Point\"\n",
    "arr = df.values\n",
    "\n",
    "all = cols[1:]\n",
    "regs = set([col.split(\"-\", 1)[0] for col in all])\n",
    "metrics = set([col.split(\"-\", 1)[1] for col in all])\n"
   ]
  },
  {
   "cell_type": "code",
   "execution_count": null,
   "metadata": {},
   "outputs": [],
   "source": [
    "N_POINTS = arr.shape[0]\n",
    "\n",
    "x = rng.normal(25, 8, size=10)\n",
    "y = rng.normal(25, 4, size=10)\n",
    "\n",
    "fig, ax = plt.subplots()\n",
    "ax.scatter(x, y)"
   ]
  }
 ],
 "metadata": {
  "kernelspec": {
   "display_name": "research",
   "language": "python",
   "name": "python3"
  },
  "language_info": {
   "codemirror_mode": {
    "name": "ipython",
    "version": 3
   },
   "file_extension": ".py",
   "mimetype": "text/x-python",
   "name": "python",
   "nbconvert_exporter": "python",
   "pygments_lexer": "ipython3",
   "version": "3.10.6"
  },
  "orig_nbformat": 4
 },
 "nbformat": 4,
 "nbformat_minor": 2
}
