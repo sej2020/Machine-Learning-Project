{
 "cells": [
  {
   "cell_type": "code",
   "execution_count": 11,
   "metadata": {},
   "outputs": [],
   "source": [
    "import numpy as np\n",
    "import matplotlib.pyplot as plt\n",
    "%matplotlib qt\n",
    "import seaborn as sns\n",
    "import pandas as pd\n",
    "from pathlib import Path\n",
    "from math import ceil"
   ]
  },
  {
   "cell_type": "code",
   "execution_count": 12,
   "metadata": {},
   "outputs": [],
   "source": [
    "## New Plot\n",
    "\n",
    "input_path = Path(\"/Users/joshuaelms/Desktop/github_repos/Machine-Learning-Project/perf_stats_Accuracy_over_Various_Proportions_of_Training_Set.csv\")\n",
    "df = pd.read_csv(input_path, header=0, index_col=None)\n",
    "# for col in df.columns.tolist():\n",
    "#     print(col)\n",
    "regs = [\n",
    "    'ARDRegression', 'AdaBoostRegressor', 'BaggingRegressor', 'BayesianRidge', 'DecisionTreeRegressor', 'ElasticNet', 'ExtraTreeRegressor', 'ExtraTreesRegressor', 'GammaRegressor', 'GradientBoostingRegressor', 'HistGradientBoostingRegressor', 'HuberRegressor', 'KNeighborsRegressor', 'Lars', 'Lasso', 'LassoLars', 'LassoLarsIC', 'LinearRegression', 'LinearSVR', 'NuSVR', 'OrthogonalMatchingPursuit', 'PLSRegression', 'PassiveAggressiveRegressor', 'PoissonRegressor', 'RANSACRegressor', 'RadiusNeighborsRegressor', 'RandomForestRegressor', 'Ridge', 'SVR', 'TransformedTargetRegressor', 'TweedieRegressor'\n",
    "]\n",
    "\n",
    "keep_regs = [reg for reg in regs if any(1 for col in df.columns.tolist() if reg == col.split(\"~\")[0])]\n",
    "n_regs = len(keep_regs)\n",
    "\n",
    "\n",
    "sns.set_style(\"dark\")\n",
    "# sq = 7\n",
    "# fig, axs = plt.subplots(nrows=sq, ncols=sq) # ceil(n_regs / 4)\n",
    "for i in range(len(keep_regs)):\n",
    "    # ax = axs[i // sq-1][i % sq]\n",
    "    fig, ax = plt.subplots()\n",
    "    reg = keep_regs[i]\n",
    "    train_sub = df[[\"percent_training_data\", f\"{reg}~Mean Absolute Error~train\"]].values.T\n",
    "    test_sub = df[[\"percent_training_data\", f\"{reg}~Mean Absolute Error~test\"]].values.T\n",
    "    ax.scatter(train_sub[0], train_sub[1], c = \"red\", label=\"Train\")\n",
    "    ax.scatter(test_sub[0], test_sub[1], c = \"blue\", label=\"Test\")\n",
    "    ax.set_ylabel(\"MAE\")\n",
    "    fig.legend()\n",
    "    ax.set_xlabel(\"% of Training Data Used\")\n",
    "    # ax.set_ylim(0, error.max() + offset)\n",
    "    ax.set_title(reg)\n",
    "    # ax.set_yscale(\"log\")\n",
    "    # sns.scatterplot(x = n_points, y = error, ax=ax)\n",
    "    \n",
    "    # plt.tight_layout()\n",
    "    plt.savefig(f\"imgs/final_fixes_pp/{reg}_plot.jpeg\", dpi = 300)\n",
    "    plt.clf()"
   ]
  },
  {
   "cell_type": "code",
   "execution_count": null,
   "metadata": {},
   "outputs": [],
   "source": []
  }
 ],
 "metadata": {
  "kernelspec": {
   "display_name": "research",
   "language": "python",
   "name": "python3"
  },
  "language_info": {
   "codemirror_mode": {
    "name": "ipython",
    "version": 3
   },
   "file_extension": ".py",
   "mimetype": "text/x-python",
   "name": "python",
   "nbconvert_exporter": "python",
   "pygments_lexer": "ipython3",
   "version": "3.10.8"
  },
  "orig_nbformat": 4
 },
 "nbformat": 4,
 "nbformat_minor": 2
}
