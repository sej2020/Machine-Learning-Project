{
 "cells": [
  {
   "cell_type": "code",
   "execution_count": 4,
   "metadata": {},
   "outputs": [],
   "source": [
    "import numpy as np\n",
    "import matplotlib.pyplot as plt\n",
    "%matplotlib qt\n",
    "import seaborn as sns\n",
    "import pandas as pd\n",
    "from pathlib import Path\n",
    "from math import ceil"
   ]
  },
  {
   "cell_type": "code",
   "execution_count": 5,
   "metadata": {},
   "outputs": [
    {
     "data": {
      "text/plain": [
       "<AxesSubplot: xlabel='Number of training samples', ylabel='MSE'>"
      ]
     },
     "execution_count": 5,
     "metadata": {},
     "output_type": "execute_result"
    }
   ],
   "source": [
    "sns.set_style(\"dark\")\n",
    "fig, ax = plt.subplots()\n",
    "step = 50\n",
    "n_points = np.arange(50, 500, step)\n",
    "inv = 10/(np.emath.logn(100, n_points))\n",
    "logs = np.array(np.log(n_points).tolist()[::-1])\n",
    "error = inv\n",
    "offset = .5\n",
    "ax.set_ylabel(\"MSE\")\n",
    "ax.set_xlabel(\"Number of training samples\")\n",
    "ax.set_ylim(0, error.max() + offset)\n",
    "fig.suptitle(\"Effect of Increased Training Sample Count on Model Error\")\n",
    "sns.scatterplot(x = n_points, y = error)"
   ]
  },
  {
   "cell_type": "code",
   "execution_count": 6,
   "metadata": {},
   "outputs": [
    {
     "ename": "NameError",
     "evalue": "name 'df' is not defined",
     "output_type": "error",
     "traceback": [
      "\u001b[0;31m---------------------------------------------------------------------------\u001b[0m",
      "\u001b[0;31mNameError\u001b[0m                                 Traceback (most recent call last)",
      "\u001b[1;32m/Users/joshuaelms/Desktop/github_repos/Machine-Learning-Project/MetaAnalysis/vis_ideas/data_size.ipynb Cell 3\u001b[0m in \u001b[0;36m<cell line: 1>\u001b[0;34m()\u001b[0m\n\u001b[0;32m----> <a href='vscode-notebook-cell:/Users/joshuaelms/Desktop/github_repos/Machine-Learning-Project/MetaAnalysis/vis_ideas/data_size.ipynb#W2sZmlsZQ%3D%3D?line=0'>1</a>\u001b[0m df\n",
      "\u001b[0;31mNameError\u001b[0m: name 'df' is not defined"
     ]
    }
   ],
   "source": [
    "df"
   ]
  },
  {
   "cell_type": "code",
   "execution_count": 7,
   "metadata": {},
   "outputs": [
    {
     "name": "stderr",
     "output_type": "stream",
     "text": [
      "/tmp/ipykernel_50060/2191260384.py:20: RuntimeWarning: More than 20 figures have been opened. Figures created through the pyplot interface (`matplotlib.pyplot.figure`) are retained until explicitly closed and may consume too much memory. (To control this warning, see the rcParam `figure.max_open_warning`). Consider using `matplotlib.pyplot.close()`.\n",
      "  fig, ax = plt.subplots()\n"
     ]
    }
   ],
   "source": [
    "## New Plot\n",
    "\n",
    "input_path = Path(\"/Users/joshuaelms/Desktop/github_repos/Machine-Learning-Project/perf_stats_Accuracy_over_Various_Proportions_of_Training_Set.csv\")\n",
    "df = pd.read_csv(input_path, header=0, index_col=None)\n",
    "# for col in df.columns.tolist():\n",
    "#     print(col)\n",
    "regs = [\n",
    "    'ARDRegression', 'AdaBoostRegressor', 'BaggingRegressor', 'BayesianRidge', 'DecisionTreeRegressor', 'ElasticNet', 'ExtraTreeRegressor', 'ExtraTreesRegressor', 'GammaRegressor', 'GradientBoostingRegressor', 'HistGradientBoostingRegressor', 'HuberRegressor', 'KNeighborsRegressor', 'Lars', 'Lasso', 'LassoLars', 'LassoLarsIC', 'LinearRegression', 'LinearSVR', 'NuSVR', 'OrthogonalMatchingPursuit', 'PLSRegression', 'PassiveAggressiveRegressor', 'PoissonRegressor', 'RANSACRegressor', 'RadiusNeighborsRegressor', 'RandomForestRegressor', 'Ridge', 'SVR', 'TransformedTargetRegressor', 'TweedieRegressor'\n",
    "]\n",
    "\n",
    "keep_regs = [reg for reg in regs if any(1 for col in df.columns.tolist() if reg == col.split(\"~\")[0])]\n",
    "n_regs = len(keep_regs)\n",
    "\n",
    "\n",
    "sns.set_style(\"dark\")\n",
    "# sq = 7\n",
    "# fig, axs = plt.subplots(nrows=sq, ncols=sq) # ceil(n_regs / 4)\n",
    "for i in range(len(keep_regs)):\n",
    "    # ax = axs[i // sq-1][i % sq]\n",
    "    fig, ax = plt.subplots()\n",
    "    reg = keep_regs[i]\n",
    "    train_sub = df[[\"percent_training_data\", f\"{reg}~Mean Absolute Error~train\"]].values.T\n",
    "    test_sub = df[[\"percent_training_data\", f\"{reg}~Mean Absolute Error~test\"]].values.T\n",
    "    ax.scatter(train_sub[0], train_sub[1], c = \"red\", label=\"Train\")\n",
    "    ax.scatter(test_sub[0], test_sub[1], c = \"blue\", label=\"Test\")\n",
    "    ax.set_ylabel(\"MAE\")\n",
    "    fig.legend()\n",
    "    ax.set_xlabel(\"% of Training Data Used\")\n",
    "    # ax.set_ylim(0, error.max() + offset)\n",
    "    ax.set_title(reg)\n",
    "    # sns.scatterplot(x = n_points, y = error, ax=ax)\n",
    "    \n",
    "    # plt.tight_layout()\n",
    "    plt.savefig(f\"imgs/full_iters/{reg}_plot.jpeg\", dpi = 300)\n",
    "    plt.clf()"
   ]
  },
  {
   "cell_type": "code",
   "execution_count": null,
   "metadata": {},
   "outputs": [],
   "source": []
  }
 ],
 "metadata": {
  "kernelspec": {
   "display_name": "research",
   "language": "python",
   "name": "python3"
  },
  "language_info": {
   "codemirror_mode": {
    "name": "ipython",
    "version": 3
   },
   "file_extension": ".py",
   "mimetype": "text/x-python",
   "name": "python",
   "nbconvert_exporter": "python",
   "pygments_lexer": "ipython3",
   "version": "3.10.8"
  },
  "orig_nbformat": 4
 },
 "nbformat": 4,
 "nbformat_minor": 2
}
