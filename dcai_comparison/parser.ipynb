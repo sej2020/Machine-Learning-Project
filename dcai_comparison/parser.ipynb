{
 "cells": [
  {
   "cell_type": "code",
   "execution_count": 11,
   "metadata": {},
   "outputs": [],
   "source": [
    "from pathlib import Path\n",
    "from bs4 import BeautifulSoup\n",
    "import pandas as pd"
   ]
  },
  {
   "cell_type": "code",
   "execution_count": 14,
   "metadata": {},
   "outputs": [
    {
     "name": "stdout",
     "output_type": "stream",
     "text": [
      "100\n",
      "100\n",
      "100\n",
      "100\n",
      "100\n"
     ]
    }
   ],
   "source": [
    "cholesterol_path = Path('raw_files/test.html')\n",
    "\n",
    "names = [\n",
    "    \"cholesterol\",\n",
    "    \"liver-disorders\",\n",
    "    \"bodyfat\",\n",
    "    \"analcatdata_negotiation\",\n",
    "    \"cleveland_regression\"\n",
    "]\n",
    "\n",
    "prep_df_dict = {name: None for name in names}\n",
    "\n",
    "# open the file and parse as html\n",
    "for name in names:\n",
    "    filepath = Path(f\"raw_files/{name}.html\")\n",
    "    with open(filepath, 'r') as f:\n",
    "        soup = BeautifulSoup(f, 'html.parser')\n",
    "        \n",
    "    cards = soup.find_all('div', attrs = {\"aria-label\":\"Root Mean Squared Error\"})\n",
    "\n",
    "    rmse_vals = []\n",
    "    for card in cards:\n",
    "        text = card.text.strip()\n",
    "        if \"RMSE\" not in text:\n",
    "            print(f\"This text was discarded: {text}\")\n",
    "            continue\n",
    "        rmse = text.split(\" \")[1]\n",
    "        rmse_vals.append(float(rmse))\n",
    "        \n",
    "    for _ in range(len(rmse_vals), 100):\n",
    "        rmse_vals.append(None)\n",
    "\n",
    "    prep_df_dict[name] = rmse_vals\n",
    "    print(len(rmse_vals))\n",
    "\n",
    "df = pd.DataFrame.from_dict(prep_df_dict)\n",
    "df.to_csv(\"rmse.csv\", index=False)"
   ]
  },
  {
   "cell_type": "code",
   "execution_count": null,
   "metadata": {},
   "outputs": [],
   "source": []
  }
 ],
 "metadata": {
  "kernelspec": {
   "display_name": "rising_sun",
   "language": "python",
   "name": "python3"
  },
  "language_info": {
   "codemirror_mode": {
    "name": "ipython",
    "version": 3
   },
   "file_extension": ".py",
   "mimetype": "text/x-python",
   "name": "python",
   "nbconvert_exporter": "python",
   "pygments_lexer": "ipython3",
   "version": "3.10.8"
  },
  "orig_nbformat": 4
 },
 "nbformat": 4,
 "nbformat_minor": 2
}
